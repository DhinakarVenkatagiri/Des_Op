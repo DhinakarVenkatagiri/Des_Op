{
  "nbformat": 4,
  "nbformat_minor": 0,
  "metadata": {
    "colab": {
      "provenance": []
    },
    "kernelspec": {
      "name": "python3",
      "display_name": "Python 3"
    },
    "language_info": {
      "name": "python"
    }
  },
  "cells": [
    {
      "cell_type": "markdown",
      "source": [
        "Solve the following problem using Python SciPy.optimize or JuMP.\n",
        "Please attach your code and results. Specify your initial guesses of\n",
        "the solution. If you change your initial guess, do you find different\n",
        "solutions?\n",
        "\n",
        "minimize: (x1 + x2)^2 + (x2 + x3 - 2)^2 + (x4 - 1)^2 + (x5 - 1)^2\n",
        "\n",
        "subject to: x1 + 3x2 = 0\n",
        "\n",
        "x3 + x4 - 2x5 = 0\n",
        "\n",
        "x2 - x5 = 0\n",
        "\n",
        "-10 <= xi <= 10; i = 1;...;5"
      ],
      "metadata": {
        "id": "ilN8v709EcCX"
      }
    },
    {
      "cell_type": "markdown",
      "source": [
        "Intial guess: x1= 10 , x2= 9 , x3= 8 , x4= 7  & x5= 6"
      ],
      "metadata": {
        "id": "Aany0_8HSrE1"
      }
    },
    {
      "cell_type": "code",
      "execution_count": 28,
      "metadata": {
        "colab": {
          "base_uri": "https://localhost:8080/"
        },
        "id": "YnWTlvd_ET4_",
        "outputId": "d729a169-a6ac-4ae5-f83f-7e401c30f25f"
      },
      "outputs": [
        {
          "output_type": "stream",
          "name": "stdout",
          "text": [
            "For x1= 10 , x2= 9 , x3= 8 , x4= 7  & x5= 6 , the optimal solution for the equation (x1 + x2)^2 + (x2 + x3 - 2)^2 + (x4 - 1)^2 + (x5 - 1)^2:\n",
            "x1: -0.7674418539477166\n",
            "x2: 0.25581395131590556\n",
            "x3: 0.6279069666630436\n",
            "x4: -0.11627906403123248\n",
            "x5: 0.25581395131590556\n",
            "And the optimal value: 4.093023255813954\n"
          ]
        }
      ],
      "source": [
        "import numpy as np\n",
        "from scipy.optimize import minimize\n",
        "\n",
        "def objective(x):\n",
        "    return (x[0] - x[1])**2 + (x[1] + x[2] - 2)**2 + (x[3] - 1)**2 + (x[4] - 1)**2\n",
        "\n",
        "def const_equts(x):\n",
        "    return [\n",
        "        x[0] + 3 * x[1],\n",
        "        x[2] + x[3] - 2 * x[4],\n",
        "        x[1] - x[4]\n",
        "    ]\n",
        "\n",
        "ini_guess = np.array([10, 9, 8, 7, 6])\n",
        "\n",
        "boundary = [(-10, 10)]*5\n",
        "\n",
        "constraint = {'type': 'eq', 'fun': const_equts}\n",
        "\n",
        "result = minimize(objective, ini_guess, method='SLSQP', bounds=boundary, constraints=constraint)\n",
        "\n",
        "print(\"For x1=\", ini_guess[0], \", x2=\", ini_guess[1], \", x3=\", ini_guess[2], \", x4=\", ini_guess[3], \" & x5=\", ini_guess[4], \", the optimal solution for the equation (x1 + x2)^2 + (x2 + x3 - 2)^2 + (x4 - 1)^2 + (x5 - 1)^2:\")\n",
        "print(\"x1:\", result.x[0])\n",
        "print(\"x2:\", result.x[1])\n",
        "print(\"x3:\", result.x[2])\n",
        "print(\"x4:\", result.x[3])\n",
        "print(\"x5:\", result.x[4])\n",
        "print(\"And the optimal value:\", result.fun)\n",
        "\n",
        "\n"
      ]
    },
    {
      "cell_type": "markdown",
      "source": [
        "Intial guess: x1= -2 , x2= -1 , x3= 0 , x4= 1 , & x5= 2"
      ],
      "metadata": {
        "id": "1K6kUcqsS-un"
      }
    },
    {
      "cell_type": "code",
      "source": [
        "import numpy as np\n",
        "from scipy.optimize import minimize\n",
        "\n",
        "def objective(x):\n",
        "    return (x[0] - x[1])**2 + (x[1] + x[2] - 2)**2 + (x[3] - 1)**2 + (x[4] - 1)**2\n",
        "\n",
        "def const_equts(x):\n",
        "    return [\n",
        "        x[0] + 3 * x[1],\n",
        "        x[2] + x[3] - 2 * x[4],\n",
        "        x[1] - x[4]\n",
        "    ]\n",
        "\n",
        "ini_guess = np.array([-2, -1, 0, 1, 2])\n",
        "\n",
        "boundary = [(-10, 10)]*5\n",
        "\n",
        "constraint = {'type': 'eq', 'fun': const_equts}\n",
        "\n",
        "result = minimize(objective, ini_guess, method='SLSQP', bounds=boundary, constraints=constraint)\n",
        "\n",
        "print(\"For x1=\", ini_guess[0], \", x2=\", ini_guess[1], \", x3=\", ini_guess[2], \", x4=\", ini_guess[3], \" & x5=\", ini_guess[4], \", the optimal solution for the equation (x1 + x2)^2 + (x2 + x3 - 2)^2 + (x4 - 1)^2 + (x5 - 1)^2:\")\n",
        "print(\"x1:\", result.x[0])\n",
        "print(\"x2:\", result.x[1])\n",
        "print(\"x3:\", result.x[2])\n",
        "print(\"x4:\", result.x[3])\n",
        "print(\"x5:\", result.x[4])\n",
        "print(\"And the optimal value:\", result.fun)\n"
      ],
      "metadata": {
        "colab": {
          "base_uri": "https://localhost:8080/"
        },
        "id": "i5i0iUfGTGd8",
        "outputId": "57ab5078-d3cb-4d16-f9b6-3479a0365e95"
      },
      "execution_count": 29,
      "outputs": [
        {
          "output_type": "stream",
          "name": "stdout",
          "text": [
            "For x1= -2 , x2= -1 , x3= 0 , x4= 1  & x5= 2 , the optimal solution for the equation (x1 + x2)^2 + (x2 + x3 - 2)^2 + (x4 - 1)^2 + (x5 - 1)^2:\n",
            "x1: -0.7674418613018659\n",
            "x2: 0.25581395376728866\n",
            "x3: 0.6279069690048256\n",
            "x4: -0.11627906147024825\n",
            "x5: 0.25581395376728866\n",
            "And the optimal value: 4.093023255813954\n"
          ]
        }
      ]
    },
    {
      "cell_type": "markdown",
      "source": [
        "Intial guess: x1= -10 , x2= -5 , x3= 0 , x4= 5 , & x5= 10"
      ],
      "metadata": {
        "id": "hmSxUXyfTty7"
      }
    },
    {
      "cell_type": "code",
      "source": [
        "import numpy as np\n",
        "from scipy.optimize import minimize\n",
        "\n",
        "def objective(x):\n",
        "    return (x[0] - x[1])**2 + (x[1] + x[2] - 2)**2 + (x[3] - 1)**2 + (x[4] - 1)**2\n",
        "\n",
        "def const_equts(x):\n",
        "    return [\n",
        "        x[0] + 3 * x[1],\n",
        "        x[2] + x[3] - 2 * x[4],\n",
        "        x[1] - x[4]\n",
        "    ]\n",
        "\n",
        "ini_guess = np.array([-10, -5, 0, 5, 10])\n",
        "\n",
        "boundary = [(-10, 10)]*5\n",
        "\n",
        "constraint = {'type': 'eq', 'fun': const_equts}\n",
        "\n",
        "result = minimize(objective, ini_guess, method='SLSQP', bounds=boundary, constraints=constraint)\n",
        "\n",
        "print(\"For x1=\", ini_guess[0], \", x2=\", ini_guess[1], \", x3=\", ini_guess[2], \", x4=\", ini_guess[3], \" & x5=\", ini_guess[4], \", the optimal solution for the equation (x1 + x2)^2 + (x2 + x3 - 2)^2 + (x4 - 1)^2 + (x5 - 1)^2:\")\n",
        "print(\"x1:\", result.x[0])\n",
        "print(\"x2:\", result.x[1])\n",
        "print(\"x3:\", result.x[2])\n",
        "print(\"x4:\", result.x[3])\n",
        "print(\"x5:\", result.x[4])\n",
        "print(\"And the optimal value:\", result.fun)"
      ],
      "metadata": {
        "colab": {
          "base_uri": "https://localhost:8080/"
        },
        "id": "_LSMFfiOT28a",
        "outputId": "85614168-be59-4da2-f8cf-65e4e4756c57"
      },
      "execution_count": 30,
      "outputs": [
        {
          "output_type": "stream",
          "name": "stdout",
          "text": [
            "For x1= -10 , x2= -5 , x3= 0 , x4= 5  & x5= 10 , the optimal solution for the equation (x1 + x2)^2 + (x2 + x3 - 2)^2 + (x4 - 1)^2 + (x5 - 1)^2:\n",
            "x1: -0.7674418582439182\n",
            "x2: 0.2558139527479727\n",
            "x3: 0.6279069780665721\n",
            "x4: -0.11627907257062675\n",
            "x5: 0.2558139527479727\n",
            "And the optimal value: 4.093023255813954\n"
          ]
        }
      ]
    },
    {
      "cell_type": "markdown",
      "source": [
        "Conclusion:\n",
        "\n",
        "Optimization with minor initial guess changes causes slight shifts in optimal solutions. Stable values were found within four decimals which suggests reliability."
      ],
      "metadata": {
        "id": "D-F-rMcbUAje"
      }
    }
  ]
}